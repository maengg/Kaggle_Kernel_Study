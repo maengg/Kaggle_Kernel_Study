{
  "nbformat": 4,
  "nbformat_minor": 0,
  "metadata": {
    "colab": {
      "name": "Porto 2nd solution.ipynb",
      "provenance": [],
      "collapsed_sections": [],
      "authorship_tag": "ABX9TyNEh10jGo6e+lohEHFc9rIa",
      "include_colab_link": true
    },
    "kernelspec": {
      "name": "python3",
      "display_name": "Python 3"
    },
    "language_info": {
      "name": "python"
    }
  },
  "cells": [
    {
      "cell_type": "markdown",
      "metadata": {
        "id": "view-in-github",
        "colab_type": "text"
      },
      "source": [
        "<a href=\"https://colab.research.google.com/github/maengg/Kaggle_Kernel_Study/blob/main/Porto_2nd_solution.ipynb\" target=\"_parent\"><img src=\"https://colab.research.google.com/assets/colab-badge.svg\" alt=\"Open In Colab\"/></a>"
      ]
    },
    {
      "cell_type": "code",
      "execution_count": 1,
      "metadata": {
        "colab": {
          "base_uri": "https://localhost:8080/"
        },
        "id": "mXFpkjhdEW9-",
        "outputId": "599121db-0a56-4b33-a010-590fa19592f6"
      },
      "outputs": [
        {
          "output_type": "stream",
          "name": "stdout",
          "text": [
            "Mounted at /content/drive\n"
          ]
        }
      ],
      "source": [
        "from google.colab import drive\n",
        "drive.mount('/content/drive')"
      ]
    },
    {
      "cell_type": "code",
      "source": [
        "import lightgbm as lgbm\n",
        "from scipy import sparse as ssp\n",
        "from sklearn.model_selection import StratifiedKFold\n",
        "import numpy as np\n",
        "import pandas as pd\n",
        "from sklearn.preprocessing import LabelEncoder\n",
        "from sklearn.preprocessing import OneHotEncoder"
      ],
      "metadata": {
        "id": "lKNwKjs5FBJU"
      },
      "execution_count": 2,
      "outputs": []
    },
    {
      "cell_type": "code",
      "source": [
        "def Gini(y_true, y_pred):\n",
        "    # check and get number of samples\n",
        "    assert y_true.shape == y_pred.shape\n",
        "    n_samples = y_true.shape[0]\n",
        "\n",
        "    # sort rows on prediction column\n",
        "    # (from largest to smallest)\n",
        "    arr = np.array([y_true, y_pred]).transpose()\n",
        "    true_order = arr[arr[:, 0].argsort()][::-1, 0]\n",
        "    pred_order = arr[arr[:, 1].argsort()][::-1, 0]\n",
        "\n",
        "    # get Lorenz curves\n",
        "    L_true = np.cumsum(true_order) * 1. / np.sum(true_order)\n",
        "    L_pred = np.cumsum(pred_order) * 1. / np.sum(pred_order)\n",
        "    L_ones = np.linspace(1 / n_samples, 1, n_samples)\n",
        "\n",
        "    # get Gini coefficients (area between curves)\n",
        "    G_true = np.sum(L_ones - L_true)\n",
        "    G_pred = np.sum(L_ones - L_pred)\n",
        "\n",
        "    # normalize to true Gini coefficient\n",
        "    return G_pred * 1. / G_true\n",
        "\n",
        "cv_only = True\n",
        "save_cv = True\n",
        "full_train = False\n",
        "\n",
        "def evalerror(preds, dtrain):\n",
        "    labels = dtrain.get_label()\n",
        "    return 'gini', Gini(labels, preds), True"
      ],
      "metadata": {
        "id": "RQZCWMCEFODJ"
      },
      "execution_count": 3,
      "outputs": []
    },
    {
      "cell_type": "code",
      "source": [
        "NROWS = 10000\n",
        "train = pd.read_csv('/content/drive/MyDrive/train.csv', nrows=NROWS)\n",
        "test = pd.read_csv('/content/drive/MyDrive/test.csv', nrows=NROWS)\n",
        "\n",
        "train_label = train['target']\n",
        "train_id = train['id']\n",
        "test_id = test['id']"
      ],
      "metadata": {
        "id": "n37cHIO_EeVd"
      },
      "execution_count": 5,
      "outputs": []
    },
    {
      "cell_type": "code",
      "source": [
        "NFOLDS = 5\n",
        "kfold = StratifiedKFold(n_splits=NFOLDS, shuffle=True, random_state=210)"
      ],
      "metadata": {
        "id": "S4z9X-WTGEsB"
      },
      "execution_count": 6,
      "outputs": []
    },
    {
      "cell_type": "code",
      "source": [
        "y = train['target'].values\n",
        "drop_feature = ['id', 'target']\n",
        "\n",
        "X = train.drop(drop_feature, axis=1)\n",
        "feature_names = X.columns.tolist()\n",
        "\n",
        "cat_features = [c for c in feature_names if ('cat' in c and 'count' not in c)]\n",
        "num_features = [c for c in feature_names if ('cat' not in c and 'calc' not in c)]"
      ],
      "metadata": {
        "id": "JrSeAJh0GW4l"
      },
      "execution_count": 8,
      "outputs": []
    },
    {
      "cell_type": "markdown",
      "source": [
        "## Feature engineering"
      ],
      "metadata": {
        "id": "7QSYksF5HJL1"
      }
    },
    {
      "cell_type": "code",
      "source": [
        "# 각 샘플 결측치의 갯수\n",
        "train['missing'] = (train==-1).sum(axis=1).astype(float)\n",
        "test['missing'] = (test==-1).sum(axis=1).astype(float)\n",
        "num_features.append('missing')"
      ],
      "metadata": {
        "id": "YywIRB8SHB5-"
      },
      "execution_count": 9,
      "outputs": []
    },
    {
      "cell_type": "code",
      "source": [
        "for c in cat_features:\n",
        "  le = LabelEncoder()\n",
        "  le.fit(train[c])\n",
        "  train[c] = le.transform(train[c])\n",
        "  test[c] = le.transform(test[c])"
      ],
      "metadata": {
        "id": "NjDwgTrcHevy"
      },
      "execution_count": 12,
      "outputs": []
    },
    {
      "cell_type": "code",
      "source": [
        "enc = OneHotEncoder()\n",
        "enc.fit(train[cat_features])\n",
        "X_cat = enc.transform(train[cat_features])\n",
        "X_t_cat = enc.transform(test[cat_features])"
      ],
      "metadata": {
        "id": "dghY-cjLJMqA"
      },
      "execution_count": 13,
      "outputs": []
    },
    {
      "cell_type": "markdown",
      "source": [
        "**ind_features를 하나로 합쳐서 새로운 특성을 만든 것.**"
      ],
      "metadata": {
        "id": "zmpcnnLbLXU6"
      }
    },
    {
      "cell_type": "code",
      "source": [
        "ind_features = [c for c in feature_names if 'ind' in c]\n",
        "count = 0\n",
        "\n",
        "for c in ind_features:\n",
        "  if count == 0:\n",
        "    train['new_ind'] = train[c].astype(str) + '_'\n",
        "    test['new_ind'] = test[c].astype(str) + '_'\n",
        "    count += 1\n",
        "  else:\n",
        "    train['new_ind'] += train[c].astype(str) + '_'\n",
        "    test['new_ind'] += test[c].astype(str) + '_'"
      ],
      "metadata": {
        "id": "WwSytK6lJl3d"
      },
      "execution_count": 17,
      "outputs": []
    },
    {
      "cell_type": "code",
      "source": [
        "cat_count_features = []\n",
        "for c in cat_features + ['new_ind'] :\n",
        "  d= pd.concat([train[c], test[c]]).value_counts().to_dict()\n",
        "  train['%s_count'%c]=train[c].apply(lambda x:d.get(x,0))\n",
        "  test['%s_count'%c]=test[c].apply(lambda x:d.get(x,0))\n",
        "  cat_count_features.append('%s_count'%c)"
      ],
      "metadata": {
        "id": "x4CyhJ46KZMv"
      },
      "execution_count": 20,
      "outputs": []
    },
    {
      "cell_type": "code",
      "source": [
        "train_list = [train[num_features + cat_count_features].values, X_cat,]\n",
        "test_list = [test[num_features + cat_count_features].values, X_t_cat,]"
      ],
      "metadata": {
        "id": "QTZkj0zjLzTs"
      },
      "execution_count": 21,
      "outputs": []
    },
    {
      "cell_type": "code",
      "source": [
        "# Sparse Row format 으로 바꾼다고 받아들여라\n",
        "X = ssp.hstack(train_list).tocsr()\n",
        "X_test = ssp.hstack(test_list).tocsr()"
      ],
      "metadata": {
        "id": "V0pU7SSMMVqS"
      },
      "execution_count": 24,
      "outputs": []
    },
    {
      "cell_type": "markdown",
      "source": [
        "## Model development"
      ],
      "metadata": {
        "id": "tdv4RcdUNEcM"
      }
    }
  ]
}